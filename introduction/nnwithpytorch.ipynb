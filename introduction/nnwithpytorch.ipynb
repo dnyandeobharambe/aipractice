{
 "cells": [
  {
   "cell_type": "code",
   "execution_count": null,
   "metadata": {},
   "outputs": [],
   "source": [
    "import torch"
   ]
  },
  {
   "cell_type": "code",
   "execution_count": null,
   "metadata": {},
   "outputs": [],
   "source": [
    "def neural_network_neurons(W, B, X):\n",
    "    return torch.matmul(W,X) + B"
   ]
  },
  {
   "cell_type": "code",
   "execution_count": null,
   "metadata": {},
   "outputs": [],
   "source": [
    "# test your code\n",
    "W = torch.tensor([[1.2, 0.3, 0.1], [.01, 2.1, 0.7]])\n",
    "B = torch.tensor([2.1, 0.89])\n",
    "X = torch.tensor([0.3, 6.8, 0.59])\n",
    "\n",
    "print(neural_network_neurons(W, B, X))"
   ]
  }
 ],
 "metadata": {
  "language_info": {
   "codemirror_mode": {
    "name": "ipython",
    "version": 3
   },
   "file_extension": ".py",
   "mimetype": "text/x-python",
   "name": "python",
   "nbconvert_exporter": "python",
   "pygments_lexer": "ipython3",
   "version": 3
  },
  "orig_nbformat": 2
 },
 "nbformat": 4,
 "nbformat_minor": 2
}